{
  "cells": [
    {
      "cell_type": "markdown",
      "metadata": {
        "id": "u40zJY5o4bMY"
      },
      "source": [
        "___\n",
        "\n",
        "<a href='https://www.udemy.com/user/joseportilla/'><img src='../Pierian_Data_Logo.png'/></a>\n",
        "___\n",
        "<center><em>Content Copyright by Pierian Data</em></center>"
      ]
    },
    {
      "cell_type": "markdown",
      "metadata": {
        "collapsed": true,
        "id": "IKLv9TbJ4bMY"
      },
      "source": [
        "# Milestone Project 2 - Walkthrough Steps Workbook\n",
        "Below is a set of steps for you to follow to try to create the Blackjack Milestone Project game!"
      ]
    },
    {
      "cell_type": "markdown",
      "metadata": {
        "id": "nGYkuICC4bMZ"
      },
      "source": [
        "## Game Play\n",
        "To play a hand of Blackjack the following steps must be followed:\n",
        "1. Create a deck of 52 cards\n",
        "2. Shuffle the deck\n",
        "3. Ask the Player for their bet\n",
        "4. Make sure that the Player's bet does not exceed their available chips\n",
        "5. Deal two cards to the Dealer and two cards to the Player\n",
        "6. Show only one of the Dealer's cards, the other remains hidden\n",
        "7. Show both of the Player's cards\n",
        "8. Ask the Player if they wish to Hit, and take another card\n",
        "9. If the Player's hand doesn't Bust (go over 21), ask if they'd like to Hit again.\n",
        "10. If a Player Stands, play the Dealer's hand. The dealer will always Hit until the Dealer's value meets or exceeds 17\n",
        "11. Determine the winner and adjust the Player's chips accordingly\n",
        "12. Ask the Player if they'd like to play again"
      ]
    },
    {
      "cell_type": "markdown",
      "metadata": {
        "id": "jwqrt1QR4bMZ"
      },
      "source": [
        "## Playing Cards\n",
        "A standard deck of playing cards has four suits (Hearts, Diamonds, Spades and Clubs) and thirteen ranks (2 through 10, then the face cards Jack, Queen, King and Ace) for a total of 52 cards per deck. Jacks, Queens and Kings all have a rank of 10. Aces have a rank of either 11 or 1 as needed to reach 21 without busting. As a starting point in your program, you may want to assign variables to store a list of suits, ranks, and then use a dictionary to map ranks to values."
      ]
    },
    {
      "cell_type": "markdown",
      "metadata": {
        "id": "Koskas2S4bMZ"
      },
      "source": [
        "## The Game\n",
        "### Imports and Global Variables\n",
        "** Step 1: Import the random module. This will be used to shuffle the deck prior to dealing. Then, declare variables to store suits, ranks and values. You can develop your own system, or copy ours below. Finally, declare a Boolean value to be used to control <code>while</code> loops. This is a common practice used to control the flow of the game.**\n",
        "\n",
        "    suits = ('Hearts', 'Diamonds', 'Spades', 'Clubs')\n",
        "    ranks = ('Two', 'Three', 'Four', 'Five', 'Six', 'Seven', 'Eight', 'Nine', 'Ten', 'Jack', 'Queen', 'King', 'Ace')\n",
        "    values = {'Two':2, 'Three':3, 'Four':4, 'Five':5, 'Six':6, 'Seven':7, 'Eight':8, 'Nine':9, 'Ten':10, 'Jack':10,\n",
        "             'Queen':10, 'King':10, 'Ace':11}"
      ]
    },
    {
      "cell_type": "code",
      "execution_count": null,
      "metadata": {
        "collapsed": true,
        "id": "dHrTSVAl4bMZ"
      },
      "outputs": [],
      "source": [
        "import random\n",
        "\n",
        "suits = ('Hearts', 'Diamonds', 'Spades', 'Clubs')\n",
        "ranks =  ('Two', 'Three', 'Four', 'Five', 'Six', 'Seven', 'Eight', 'Nine', 'Ten', 'Jack', 'Queen', 'King', 'Ace')\n",
        "values = {'Two':2, 'Three':3, 'Four':4, 'Five':5, 'Six':6, 'Seven':7, 'Eight':8, 'Nine':9, 'Ten':10, 'Jack':10,\n",
        "         'Queen':10, 'King':10, 'Ace':11}\n",
        "\n",
        "playing = True"
      ]
    },
    {
      "cell_type": "code",
      "source": [],
      "metadata": {
        "id": "lCXl1G1PyRB3"
      },
      "execution_count": null,
      "outputs": []
    },
    {
      "cell_type": "code",
      "source": [],
      "metadata": {
        "id": "9soTZjjoyRHI"
      },
      "execution_count": null,
      "outputs": []
    },
    {
      "cell_type": "markdown",
      "metadata": {
        "id": "9H8cbxtp4bMa"
      },
      "source": [
        "### Class Definitions\n",
        "Consider making a Card class where each Card object has a suit and a rank, then a Deck class to hold all 52 Card objects, and can be shuffled, and finally a Hand class that holds those Cards that have been dealt to each player from the Deck."
      ]
    },
    {
      "cell_type": "markdown",
      "metadata": {
        "id": "9NkwWAUO4bMa"
      },
      "source": [
        "**Step 2: Create a Card Class**<br>\n",
        "A Card object really only needs two attributes: suit and rank. You might add an attribute for \"value\" - we chose to handle value later when developing our Hand class.<br>In addition to the Card's \\_\\_init\\_\\_ method, consider adding a \\_\\_str\\_\\_ method that, when asked to print a Card, returns a string in the form \"Two of Hearts\""
      ]
    },
    {
      "cell_type": "code",
      "execution_count": null,
      "metadata": {
        "collapsed": true,
        "id": "lA0-jLhH4bMa"
      },
      "outputs": [],
      "source": [
        "class Card:\n",
        "\n",
        "    def __init__(self,suits,ranks):\n",
        "        self.suits=suits\n",
        "        self.ranks=ranks\n",
        "        self.values=values[ranks]\n",
        "        # Come back to the values attribute\n",
        "\n",
        "    def __str__(self):\n",
        "        return f'{self.suits} of {self.ranks}'"
      ]
    },
    {
      "cell_type": "code",
      "source": [
        "#new_card=Card(suits[0],ranks[0])"
      ],
      "metadata": {
        "id": "MEbZBt148LHA"
      },
      "execution_count": null,
      "outputs": []
    },
    {
      "cell_type": "code",
      "source": [
        "#print(new_card)"
      ],
      "metadata": {
        "id": "S0MUY4jJ8Yx_"
      },
      "execution_count": null,
      "outputs": []
    },
    {
      "cell_type": "code",
      "source": [
        "#new_card.values"
      ],
      "metadata": {
        "id": "dwWt9LNcBYk4"
      },
      "execution_count": null,
      "outputs": []
    },
    {
      "cell_type": "markdown",
      "metadata": {
        "id": "tHhNlfRh4bMa"
      },
      "source": [
        "**Step 3: Create a Deck Class**<br>\n",
        "Here we might store 52 card objects in a list that can later be shuffled. First, though, we need to *instantiate* all 52 unique card objects and add them to our list. So long as the Card class definition appears in our code, we can build Card objects inside our Deck \\_\\_init\\_\\_ method. Consider iterating over sequences of suits and ranks to build out each card. This might appear inside a Deck class \\_\\_init\\_\\_ method:\n",
        "\n",
        "    for suit in suits:\n",
        "        for rank in ranks:\n",
        "\n",
        "In addition to an \\_\\_init\\_\\_ method we'll want to add methods to shuffle our deck, and to deal out cards during gameplay.<br><br>\n",
        "OPTIONAL: We may never need to print the contents of the deck during gameplay, but having the ability to see the cards inside it may help troubleshoot any problems that occur during development. With this in mind, consider adding a \\_\\_str\\_\\_ method to the class definition."
      ]
    },
    {
      "cell_type": "code",
      "execution_count": null,
      "metadata": {
        "collapsed": true,
        "id": "EhIEt8cx4bMa"
      },
      "outputs": [],
      "source": [
        "class Deck:\n",
        "\n",
        "    def __init__(self):\n",
        "        self.deck = []  # start with an empty list\n",
        "        for suit in suits:\n",
        "            for rank in ranks:\n",
        "                self.deck.append(Card(suit,rank))\n",
        "                # make sure that you pass through the index position and not the full tuple list.\n",
        "\n",
        "    def __str__(self):\n",
        "        #for card in len(self.deck):\n",
        "          #return f'{card}'\n",
        "        return '\\n'.join(str(card) for card in self.deck)\n",
        "\n",
        "\n",
        "    def shuffle(self):\n",
        "        random.shuffle(self.deck)\n",
        "\n",
        "    def deal(self):\n",
        "        return self.deck.pop(0)"
      ]
    },
    {
      "cell_type": "code",
      "source": [
        "#new_deck=Deck()"
      ],
      "metadata": {
        "id": "_JBtrrZe6wqm"
      },
      "execution_count": null,
      "outputs": []
    },
    {
      "cell_type": "code",
      "source": [
        "#hand=new_deck.deal()"
      ],
      "metadata": {
        "id": "jLqdsH-5Lql4"
      },
      "execution_count": null,
      "outputs": []
    },
    {
      "cell_type": "code",
      "source": [
        "#print(hand)"
      ],
      "metadata": {
        "id": "txJ_kTkDLyVl"
      },
      "execution_count": null,
      "outputs": []
    },
    {
      "cell_type": "code",
      "source": [
        "#for card in new_deck.deck:\n",
        "#  print(card)"
      ],
      "metadata": {
        "id": "Kqpb2itW60-L"
      },
      "execution_count": null,
      "outputs": []
    },
    {
      "cell_type": "markdown",
      "metadata": {
        "id": "VrjOW3si4bMa"
      },
      "source": [
        "TESTING: Just to see that everything works so far, let's see what our Deck looks like!"
      ]
    },
    {
      "cell_type": "code",
      "execution_count": null,
      "metadata": {
        "collapsed": true,
        "id": "fnaVftLE4bMa",
        "colab": {
          "base_uri": "https://localhost:8080/"
        },
        "outputId": "32dd66b0-4d12-44ba-d0c3-557d953a7b2d"
      },
      "outputs": [
        {
          "output_type": "stream",
          "name": "stdout",
          "text": [
            "Hearts of Two\n",
            "Hearts of Three\n",
            "Hearts of Four\n",
            "Hearts of Five\n",
            "Hearts of Six\n",
            "Hearts of Seven\n",
            "Hearts of Eight\n",
            "Hearts of Nine\n",
            "Hearts of Ten\n",
            "Hearts of Jack\n",
            "Hearts of Queen\n",
            "Hearts of King\n",
            "Hearts of Ace\n",
            "Diamonds of Two\n",
            "Diamonds of Three\n",
            "Diamonds of Four\n",
            "Diamonds of Five\n",
            "Diamonds of Six\n",
            "Diamonds of Seven\n",
            "Diamonds of Eight\n",
            "Diamonds of Nine\n",
            "Diamonds of Ten\n",
            "Diamonds of Jack\n",
            "Diamonds of Queen\n",
            "Diamonds of King\n",
            "Diamonds of Ace\n",
            "Spades of Two\n",
            "Spades of Three\n",
            "Spades of Four\n",
            "Spades of Five\n",
            "Spades of Six\n",
            "Spades of Seven\n",
            "Spades of Eight\n",
            "Spades of Nine\n",
            "Spades of Ten\n",
            "Spades of Jack\n",
            "Spades of Queen\n",
            "Spades of King\n",
            "Spades of Ace\n",
            "Clubs of Two\n",
            "Clubs of Three\n",
            "Clubs of Four\n",
            "Clubs of Five\n",
            "Clubs of Six\n",
            "Clubs of Seven\n",
            "Clubs of Eight\n",
            "Clubs of Nine\n",
            "Clubs of Ten\n",
            "Clubs of Jack\n",
            "Clubs of Queen\n",
            "Clubs of King\n",
            "Clubs of Ace\n"
          ]
        }
      ],
      "source": [
        "test_deck = Deck()\n",
        "print(test_deck)"
      ]
    },
    {
      "cell_type": "markdown",
      "metadata": {
        "id": "NpLogaoU4bMa"
      },
      "source": [
        "Great! Now let's move on to our Hand class."
      ]
    },
    {
      "cell_type": "markdown",
      "metadata": {
        "id": "LOV6FD0x4bMa"
      },
      "source": [
        "**Step 4: Create a Hand Class**<br>\n",
        "In addition to holding Card objects dealt from the Deck, the Hand class may be used to calculate the value of those cards using the values dictionary defined above. It may also need to adjust for the value of Aces when appropriate."
      ]
    },
    {
      "cell_type": "code",
      "execution_count": null,
      "metadata": {
        "collapsed": true,
        "id": "_t4wEFsB4bMa"
      },
      "outputs": [],
      "source": [
        "class Hand:\n",
        "    def __init__(self):\n",
        "        self.cards = []  # start with an empty list as we did in the Deck class\n",
        "        self.value = 0   # start with zero value\n",
        "        self.aces = 0    # add an attribute to keep track of aces\n",
        "\n",
        "    def add_card(self,card):\n",
        "        self.cards.append(card)\n",
        "        self.value+=card.values\n",
        "        #print(f'Your current hand is: {self.value}')\n",
        "\n",
        "\n",
        "    def adjust_for_ace(self,card):\n",
        "      #for card_rank in self.cards:\n",
        "        # iterate\n",
        "      #if card.ranks=='Ace':\n",
        "          # if ace is found\n",
        "      if self.value>21:\n",
        "        self.value=self.value-10\n",
        "            # condition to set it to 0 or 1\n",
        "        #else:\n",
        "          #print(f'Value after Ace: {self.value}')\n",
        "\n",
        "\n",
        "\n",
        "\n"
      ]
    },
    {
      "cell_type": "code",
      "source": [
        "#player1=Hand()"
      ],
      "metadata": {
        "id": "02_DUcJ9Kqi_"
      },
      "execution_count": null,
      "outputs": []
    },
    {
      "cell_type": "markdown",
      "metadata": {
        "id": "wQ4diCir4bMb"
      },
      "source": [
        "**Step 5: Create a Chips Class**<br>\n",
        "In addition to decks of cards and hands, we need to keep track of a Player's starting chips, bets, and ongoing winnings. This could be done using global variables, but in the spirit of object oriented programming, let's make a Chips class instead!"
      ]
    },
    {
      "cell_type": "code",
      "execution_count": null,
      "metadata": {
        "collapsed": true,
        "id": "mhx_kQ0q4bMb"
      },
      "outputs": [],
      "source": [
        "class Chips:\n",
        "\n",
        "    def __init__(self):\n",
        "        self.total = 100  # This can be set to a default value or supplied by a user input\n",
        "        self.bet = 0\n",
        "\n",
        "    def win_bet(self,chip):\n",
        "        self.total=self.total+int(chip)\n",
        "        # method will need to be assigned by an instantiation of the class\n",
        "\n",
        "\n",
        "\n",
        "    def lose_bet(self,chip):\n",
        "        self.total=self.total-int(chip)\n",
        "\n",
        "\n",
        "    def __str__(self):\n",
        "      return f'You have a balance of: ${self.total}'"
      ]
    },
    {
      "cell_type": "code",
      "source": [
        "#bank=100"
      ],
      "metadata": {
        "id": "HnHuS9tXapgT"
      },
      "execution_count": null,
      "outputs": []
    },
    {
      "cell_type": "code",
      "source": [
        "banks=Chips()"
      ],
      "metadata": {
        "id": "3Q_Jr6SMJLbL"
      },
      "execution_count": null,
      "outputs": []
    },
    {
      "cell_type": "markdown",
      "metadata": {
        "id": "ePuQMmH44bMb"
      },
      "source": [
        "### Function Defintions\n",
        "A lot of steps are going to be repetitive. That's where functions come in! The following steps are guidelines - add or remove functions as needed in your own program."
      ]
    },
    {
      "cell_type": "markdown",
      "metadata": {
        "id": "PiuPMQ5r4bMb"
      },
      "source": [
        "**Step 6: Write a function for taking bets**<br>\n",
        "Since we're asking the user for an integer value, this would be a good place to use <code>try</code>/<code>except</code>. Remember to check that a Player's bet can be covered by their available chips."
      ]
    },
    {
      "cell_type": "code",
      "execution_count": null,
      "metadata": {
        "collapsed": true,
        "id": "jBfVM-ra4bMb"
      },
      "outputs": [],
      "source": [
        "def take_bet():\n",
        "  #global banks.total\n",
        "  \"\"\"\n",
        "  1. Remember to change the 'bank' variable to the player's attribute later.\n",
        "  2. When performing the math operation in the if statement, there was an error.\n",
        "     UnboundLocalError: local variable referenced before assignment\n",
        "  3. This means that the 'bank' variable was reassigned in the local scope when bank=bank-bet occured.\n",
        "  4. To solve this, declare bank as a global variable within the function.\n",
        "\n",
        "  \"\"\"\n",
        "  bet=0\n",
        "  while isinstance(bet,int):\n",
        "    try:\n",
        "      bet=int(input('What bet do you want to place? '))\n",
        "      if bet<=banks.total:\n",
        "        # This is if the bet is sufficient\n",
        "        banks.total=banks.total-bet\n",
        "        print(f'Your bet was ${bet} and your chip total is ${banks.total}')\n",
        "\n",
        "        return bet\n",
        "        break\n",
        "      elif bet>banks.total:\n",
        "        print('Insufficient Funds for your bet, try a different amount.')\n",
        "\n",
        "        continue\n",
        "\n",
        "    except:\n",
        "      print('That is not a $ amount')\n",
        "      continue\n",
        "\n",
        "\n"
      ]
    },
    {
      "cell_type": "code",
      "source": [
        "#take_bet()"
      ],
      "metadata": {
        "id": "1OtB7zuJay8w"
      },
      "execution_count": null,
      "outputs": []
    },
    {
      "cell_type": "code",
      "source": [
        "print(banks.total)"
      ],
      "metadata": {
        "colab": {
          "base_uri": "https://localhost:8080/"
        },
        "id": "kd7gq8gra1gb",
        "outputId": "f88fd47d-3f9a-4683-d6fc-647bc2befea0"
      },
      "execution_count": null,
      "outputs": [
        {
          "output_type": "stream",
          "name": "stdout",
          "text": [
            "100\n"
          ]
        }
      ]
    },
    {
      "cell_type": "code",
      "source": [
        "print(banks)"
      ],
      "metadata": {
        "colab": {
          "base_uri": "https://localhost:8080/"
        },
        "id": "uz2i1tUiKR0k",
        "outputId": "ea825f33-77da-4401-c78b-fe7e4a31cd54"
      },
      "execution_count": null,
      "outputs": [
        {
          "output_type": "stream",
          "name": "stdout",
          "text": [
            "You have a balance of: $100\n"
          ]
        }
      ]
    },
    {
      "cell_type": "markdown",
      "metadata": {
        "id": "v7BZeGWS4bMb"
      },
      "source": [
        "**Step 7: Write a function for taking hits**<br>\n",
        "Either player can take hits until they bust. This function will be called during gameplay anytime a Player requests a hit, or a Dealer's hand is less than 17. It should take in Deck and Hand objects as arguments, and deal one card off the deck and add it to the Hand. You may want it to check for aces in the event that a player's hand exceeds 21."
      ]
    },
    {
      "cell_type": "code",
      "source": [],
      "metadata": {
        "id": "yy6atGkwtrXe"
      },
      "execution_count": null,
      "outputs": []
    },
    {
      "cell_type": "code",
      "execution_count": null,
      "metadata": {
        "collapsed": true,
        "id": "ZOwzTltY4bMb"
      },
      "outputs": [],
      "source": [
        "def hit(deck,hand):\n",
        "  #new_deck=Deck() class\n",
        "  #hand=Hand() class\n",
        "  new_card=deck.deal()\n",
        "  #hand.add_card(new_card)\n",
        "\n",
        "  return new_card\n",
        "\n",
        "  #if new_card.rank=='Ace':\n",
        "    #hand.adjust_for_ace(new_card)\n",
        "  #print(f'You were dealt a {new_card.suits} of {new_card.ranks}')\n",
        "  #print(f'Your Current Hand is at {hand.value}')\n",
        "  #print(f'You were dealt a {new_card.suits} of {new_card.ranks}')\n",
        "\n",
        "  # Come back to this to see if you have to return something for the card to go through"
      ]
    },
    {
      "cell_type": "code",
      "source": [],
      "metadata": {
        "id": "Zj9o2uLbyA0u"
      },
      "execution_count": null,
      "outputs": []
    },
    {
      "cell_type": "code",
      "source": [],
      "metadata": {
        "id": "_k1nnssTyA5z"
      },
      "execution_count": null,
      "outputs": []
    },
    {
      "cell_type": "code",
      "source": [],
      "metadata": {
        "id": "XBqCAyZ1yBTX"
      },
      "execution_count": null,
      "outputs": []
    },
    {
      "cell_type": "markdown",
      "metadata": {
        "id": "HcWec5m-4bMb"
      },
      "source": [
        "**Step 8: Write a function prompting the Player to Hit or Stand**<br>\n",
        "This function should accept the deck and the player's hand as arguments, and assign playing as a global variable.<br>\n",
        "If the Player Hits, employ the hit() function above. If the Player Stands, set the playing variable to False - this will control the behavior of a <code>while</code> loop later on in our code."
      ]
    },
    {
      "cell_type": "code",
      "execution_count": null,
      "metadata": {
        "collapsed": true,
        "id": "CRMB4oi34bMb"
      },
      "outputs": [],
      "source": [
        "def hit_or_stand(deck,hand):\n",
        "    global playing  # to control an upcoming while loop\n",
        "    answer=''\n",
        "    #while not answer== 'Hit' or answer=='Stand':\n",
        "    while not answer=='Stand' and not hand.value>21:\n",
        "          #try:\n",
        "            answer=str(input('Do you want to Hit or Stand? '))\n",
        "            # Come back to this\n",
        "            if answer=='Hit':\n",
        "              print('Hit')\n",
        "              # execute this later\n",
        "              new_card1=hit(deck,hand)\n",
        "              hand.add_card(new_card1)\n",
        "              #print(f'Your current hand is: {hand.value}')\n",
        "              if new_card1.ranks=='Ace':\n",
        "                hand.adjust_for_ace(new_card1)\n",
        "                print(f'Value after Ace: {hand.value}')\n",
        "              print(f'You were dealt a {new_card1.suits} of {new_card1.ranks}')\n",
        "              print(f'Your Current Hand is at {hand.value}')\n",
        "              continue\n",
        "              \"\"\"\n",
        "              if hand.value>21:\n",
        "                print('You busted!')\n",
        "                playing=False\n",
        "              \"\"\"\n",
        "\n",
        "\n",
        "\n",
        "\n",
        "            elif answer=='Stand':\n",
        "              print(f'Your hand is at {hand.value}')\n",
        "              break\n",
        "            else:\n",
        "              print('Invalid response, enter Hit or Stand.')\n",
        "          #except:\n",
        "            # Does not reach this except block because of the else, but it still works.\n",
        "            #print('Enter Hit or Stand')\n",
        "            #continue"
      ]
    },
    {
      "cell_type": "code",
      "source": [
        "#new_deck=Deck()"
      ],
      "metadata": {
        "id": "mixFNXgryNQj"
      },
      "execution_count": null,
      "outputs": []
    },
    {
      "cell_type": "code",
      "source": [
        "#player1=Hand()"
      ],
      "metadata": {
        "id": "S8h_KotCyhxq"
      },
      "execution_count": null,
      "outputs": []
    },
    {
      "cell_type": "code",
      "source": [
        "#hit_or_stand(new_deck,player1)"
      ],
      "metadata": {
        "id": "V2p1czROykQK"
      },
      "execution_count": null,
      "outputs": []
    },
    {
      "cell_type": "code",
      "source": [
        "#print(player1.cards)"
      ],
      "metadata": {
        "id": "SinKlv8VyNpq"
      },
      "execution_count": null,
      "outputs": []
    },
    {
      "cell_type": "code",
      "source": [
        "#for card in player1.cards:\n",
        " # print(card)"
      ],
      "metadata": {
        "id": "X4zXehM24TOd"
      },
      "execution_count": null,
      "outputs": []
    },
    {
      "cell_type": "code",
      "source": [],
      "metadata": {
        "id": "LhVdx5ou4U7x"
      },
      "execution_count": null,
      "outputs": []
    },
    {
      "cell_type": "markdown",
      "metadata": {
        "id": "zmlD7fux4bMb"
      },
      "source": [
        "**Step 9: Write functions to display cards**<br>\n",
        "When the game starts, and after each time Player takes a card, the dealer's first card is hidden and all of Player's cards are visible. At the end of the hand all cards are shown, and you may want to show each hand's total value. Write a function for each of these scenarios."
      ]
    },
    {
      "cell_type": "code",
      "execution_count": null,
      "metadata": {
        "collapsed": true,
        "id": "81fdw_hY4bMb"
      },
      "outputs": [],
      "source": [
        "def show_some(player,dealer):\n",
        "    print(\"Player's cards:\\n\")\n",
        "    for card in player.cards:\n",
        "      print(card)\n",
        "    print(\"The dealer's cards: \\n\")\n",
        "    print('*First card hidden*\\n')\n",
        "    print(dealer.cards[1])\n",
        "\n",
        "\n",
        "\n",
        "\n",
        "def show_all(player,dealer):\n",
        "    print(\"The player's cards were: \\n\")\n",
        "    for card in player.cards:\n",
        "      print(card)\n",
        "    print(\"\\nThe dealer's cards were: \\n\")\n",
        "    for card in dealer.cards:\n",
        "      print(card)"
      ]
    },
    {
      "cell_type": "markdown",
      "metadata": {
        "id": "J59gjZfT4bMb"
      },
      "source": [
        "**Step 10: Write functions to handle end of game scenarios**<br>\n",
        "Remember to pass player's hand, dealer's hand and chips as needed."
      ]
    },
    {
      "cell_type": "code",
      "execution_count": null,
      "metadata": {
        "collapsed": true,
        "id": "a3ldz1CT4bMc"
      },
      "outputs": [],
      "source": [
        "def player_busts(chips,player,dealer):\n",
        "    chip=0\n",
        "    if player.value>21:\n",
        "      print('Player bust\\n')\n",
        "      print(f\"Player's value was {player.value}\")\n",
        "    return int(chip)\n",
        "      # attach boolean to variable in while loop, var should be associated with player winning\n",
        "\n",
        "def player_wins(chips,player,dealer):\n",
        "    chip=0\n",
        "    result=0\n",
        "    a=0\n",
        "    if player.value==21 and player.value>dealer.value:\n",
        "      print('BLACK JACK\\n')\n",
        "      #chip=chips*2.5\n",
        "      a=chips*2.5\n",
        "      print(f'Your total (PLAYER WIN) winnnings are: {a}')\n",
        "      result= int(a)\n",
        "\n",
        "    elif player.value<21 and player.value>dealer.value:\n",
        "      print(f\"The player had a bigger hand: {player.value}, then the dealer: {dealer.value}!\\n The Player wins!\")\n",
        "      #chip=chips*2\n",
        "      a=chips*2\n",
        "      print(f'Your total (PLAYER WIN) winnnings are: {a}')\n",
        "      result= int(a)\n",
        "    return result\n",
        "\n",
        "def dealer_busts(chips,player,dealer):\n",
        "    # return the winnings\n",
        "    # This logic works\n",
        "    a=0\n",
        "    if dealer.value>21:\n",
        "      print('Dealer Bust\\n')\n",
        "      print(f\"The Dealer's value was {dealer.value}\")\n",
        "      a=chips*2\n",
        "      print(f'Your total (DEALER BUST) winnnings are: {a}')\n",
        "    return int(a)\n",
        "\n",
        "def dealer_wins(chips,player,dealer):\n",
        "    # return the chips\n",
        "    a=0\n",
        "    if dealer.value<=21 and dealer.value>player.value:\n",
        "      print(f\"The Dealer won :(\\n Their value was {dealer.value} and yours was {player.value}.\")\n",
        "      print(f'Your total (DEALER WINS) winnnings are: {a}')\n",
        "      a=chips\n",
        "    return int(a)\n",
        "\n",
        "def push(chips,player,dealer):\n",
        "    a=0\n",
        "    if dealer.value==player.value and dealer.value<22:\n",
        "      a=chips\n",
        "      print('Push')\n",
        "      print(f'You get back: {a}')\n",
        "    return int(a)\n",
        "\n"
      ]
    },
    {
      "cell_type": "code",
      "source": [
        "# Code for placing cards for dealer:\n",
        "def deal_to_17(dealer,deck,player):\n",
        "  while not dealer.value>=17 and player.value<=21:\n",
        "    new_card=deck.deal()\n",
        "    dealer.add_card(new_card)\n",
        "    print(f\"Dealer is at: {dealer.value}\")\n",
        "    if new_card.ranks=='Ace':\n",
        "            dealer.adjust_for_ace(new_card)\n",
        "            print(f'Value after Ace: {dealer.value}')\n",
        "\n"
      ],
      "metadata": {
        "id": "nvgQOYKufaTZ"
      },
      "execution_count": null,
      "outputs": []
    },
    {
      "cell_type": "markdown",
      "metadata": {
        "id": "-hWymA624bMc"
      },
      "source": [
        "### And now on to the game!!"
      ]
    },
    {
      "cell_type": "code",
      "execution_count": null,
      "metadata": {
        "collapsed": true,
        "id": "qpNr3yJ24bMc",
        "colab": {
          "base_uri": "https://localhost:8080/"
        },
        "outputId": "2f2b5cfc-8387-49f0-95b5-7f7da3b90578"
      },
      "outputs": [
        {
          "output_type": "stream",
          "name": "stdout",
          "text": [
            "You have a balance of: $100\n",
            "Round Begin!\n",
            "What bet do you want to place? 10\n",
            "Your bet was $10 and your chip total is $90\n",
            "Player's cards:\n",
            "\n",
            "Diamonds of Six\n",
            "Diamonds of Queen\n",
            "The dealer's cards: \n",
            "\n",
            "*First card hidden*\n",
            "\n",
            "Spades of Eight\n",
            "Do you want to Hit or Stand? Hit\n",
            "Hit\n",
            "You were dealt a Diamonds of Seven\n",
            "Your Current Hand is at 23\n",
            "Player bust\n",
            "\n",
            "Player's value was 23\n",
            "The player's cards were: \n",
            "\n",
            "Diamonds of Six\n",
            "Diamonds of Queen\n",
            "Diamonds of Seven\n",
            "\n",
            "The dealer's cards were: \n",
            "\n",
            "Clubs of Eight\n",
            "Spades of Eight\n",
            "Your Chip Total is: 90\n",
            "Do you want to play again? Yes/noYes\n",
            "Round Begin!\n",
            "What bet do you want to place? 5\n",
            "Your bet was $5 and your chip total is $85\n",
            "Player's cards:\n",
            "\n",
            "Spades of Two\n",
            "Clubs of Ace\n",
            "The dealer's cards: \n",
            "\n",
            "*First card hidden*\n",
            "\n",
            "Spades of Ace\n",
            "Do you want to Hit or Stand? Stand\n",
            "Your hand is at 13\n",
            "The player's cards were: \n",
            "\n",
            "Spades of Two\n",
            "Clubs of Ace\n",
            "\n",
            "The dealer's cards were: \n",
            "\n",
            "Diamonds of Eight\n",
            "Spades of Ace\n",
            "The Dealer won :(\n",
            " Their value was 19 and yours was 13.\n",
            "Your total (DEALER WINS) winnnings are: 0\n",
            "Your Chip Total is: 85\n",
            "Do you want to play again? Yes/noYes\n",
            "Round Begin!\n",
            "What bet do you want to place? 20\n",
            "Your bet was $20 and your chip total is $65\n",
            "Player's cards:\n",
            "\n",
            "Diamonds of Three\n",
            "Diamonds of Five\n",
            "The dealer's cards: \n",
            "\n",
            "*First card hidden*\n",
            "\n",
            "Clubs of Ten\n",
            "Do you want to Hit or Stand? Hit\n",
            "Hit\n",
            "You were dealt a Diamonds of Four\n",
            "Your Current Hand is at 12\n",
            "Do you want to Hit or Stand? Hit\n",
            "Hit\n",
            "You were dealt a Spades of Queen\n",
            "Your Current Hand is at 22\n",
            "Player bust\n",
            "\n",
            "Player's value was 22\n",
            "The player's cards were: \n",
            "\n",
            "Diamonds of Three\n",
            "Diamonds of Five\n",
            "Diamonds of Four\n",
            "Spades of Queen\n",
            "\n",
            "The dealer's cards were: \n",
            "\n",
            "Spades of Nine\n",
            "Clubs of Ten\n",
            "Your Chip Total is: 65\n",
            "Do you want to play again? Yes/noYes\n",
            "Round Begin!\n",
            "What bet do you want to place? 10\n",
            "Your bet was $10 and your chip total is $55\n",
            "Player's cards:\n",
            "\n",
            "Hearts of Nine\n",
            "Clubs of Five\n",
            "The dealer's cards: \n",
            "\n",
            "*First card hidden*\n",
            "\n",
            "Spades of Queen\n",
            "Do you want to Hit or Stand? Hit\n",
            "Hit\n",
            "You were dealt a Diamonds of King\n",
            "Your Current Hand is at 24\n",
            "Player bust\n",
            "\n",
            "Player's value was 24\n",
            "The player's cards were: \n",
            "\n",
            "Hearts of Nine\n",
            "Clubs of Five\n",
            "Diamonds of King\n",
            "\n",
            "The dealer's cards were: \n",
            "\n",
            "Diamonds of Ace\n",
            "Spades of Queen\n",
            "Your Chip Total is: 55\n",
            "Do you want to play again? Yes/noYes\n",
            "Round Begin!\n",
            "What bet do you want to place? 10\n",
            "Your bet was $10 and your chip total is $45\n",
            "Player's cards:\n",
            "\n",
            "Spades of Jack\n",
            "Hearts of Queen\n",
            "The dealer's cards: \n",
            "\n",
            "*First card hidden*\n",
            "\n",
            "Spades of Nine\n",
            "Do you want to Hit or Stand? Stand\n",
            "Your hand is at 20\n",
            "The player's cards were: \n",
            "\n",
            "Spades of Jack\n",
            "Hearts of Queen\n",
            "\n",
            "The dealer's cards were: \n",
            "\n",
            "Clubs of Nine\n",
            "Spades of Nine\n",
            "The player had a bigger hand: 20, then the dealer: 18!\n",
            " The Player wins!\n",
            "Your total (PLAYER WIN) winnnings are: 20\n",
            "Your Chip Total is: 65\n",
            "Do you want to play again? Yes/noYes\n",
            "Round Begin!\n",
            "That is not a $ amount\n",
            "That is not a $ amount\n",
            "That is not a $ amount\n",
            "That is not a $ amount\n"
          ]
        }
      ],
      "source": [
        "player=('Ryan')\n",
        "\n",
        "# Set up the Player's chips\n",
        "banks=Chips()\n",
        "print(banks)\n",
        "# Holds balance, self.total\n",
        "\n",
        "\n",
        "while True:\n",
        "\n",
        "    # Print an opening statement\n",
        "    print('Round Begin!')\n",
        "    # Create & shuffle the deck, deal two cards to each player\n",
        "    new_deck=Deck()\n",
        "    new_deck.shuffle()\n",
        "\n",
        "\n",
        "\n",
        "\n",
        "    # Setting up the hand for player, create instantiations for the player and dealer\n",
        "    player1=Hand()\n",
        "    # sets up the player's hand\n",
        "    dealer=Hand()\n",
        "\n",
        "\n",
        "    # Prompt the Player for their bet\n",
        "\n",
        "    #initial_bet=take_bet()\n",
        "\n",
        "    while playing:  # recall this variable from our hit_or_stand function\n",
        "        initial_bet=take_bet()\n",
        "        # Deal cards\n",
        "        player1.add_card(new_deck.deal())\n",
        "        dealer.add_card(new_deck.deal())\n",
        "        player1.add_card(new_deck.deal())\n",
        "        dealer.add_card(new_deck.deal())\n",
        "\n",
        "        # Show cards (but keep one dealer card hidden)\n",
        "        show_some(player1,dealer)\n",
        "\n",
        "\n",
        "        # Prompt for Player to Hit or Stand\n",
        "        hit_or_stand(new_deck,player1)\n",
        "\n",
        "        # If player's hand exceeds 21, run player_busts() and break out of loop\n",
        "        if player1.value>21:\n",
        "            lose1=player_busts(initial_bet,player1,dealer)\n",
        "            banks.lose_bet(lose1)\n",
        "\n",
        "\n",
        "        # If Player hasn't busted, play Dealer's hand until Dealer reaches 17\n",
        "        deal_to_17(dealer,new_deck,player1)\n",
        "\n",
        "\n",
        "\n",
        "        # dealer bust\n",
        "        #if player1.value<=21 and dealer.value>21:\n",
        "        win1=dealer_busts(initial_bet,player1,dealer)\n",
        "        banks.win_bet(win1)\n",
        "\n",
        "\n",
        "\n",
        "        # Show all cards\n",
        "        show_all(player1,dealer)\n",
        "        # Run different winning scenarios\n",
        "        #elif player1.value<=21 and dealer.value<21 and not player1.value==dealer.value:\n",
        "        wins=player_wins(initial_bet,player1,dealer)\n",
        "        banks.win_bet(wins)\n",
        "            #break\n",
        "\n",
        "        #elif dealer.value>player1.value:\n",
        "        lose=dealer_wins(initial_bet,player1,dealer)\n",
        "        #banks.lose_bet(lose)\n",
        "            #break\n",
        "\n",
        "        #elif player1.value==dealer.value:\n",
        "        win=push(initial_bet,player1,dealer)\n",
        "        banks.win_bet(win)\n",
        "        break\n",
        "\n",
        "\n",
        "        # just incase logic flows all the way down\n",
        "\n",
        "\n",
        "\n",
        "\n",
        "    # Inform Player of their chips total\n",
        "    print(f\"Your Chip Total is: {banks.total}\")\n",
        "    # Ask to play again\n",
        "    if banks.total<=0:\n",
        "        print(\"You're All out of Chips!\\nGame Over!\")\n",
        "        # if this line gets executed, note the Chips total will be negative or 0, chip total will be negative because of how the lose functions are set up return (Chip).\n",
        "        break\n",
        "    replay=str(input('Do you want to play again? Yes/no'))\n",
        "    if replay=='Yes':\n",
        "        continue\n",
        "        # Make these apart of the bigger while loop\n",
        "    else:\n",
        "        break"
      ]
    },
    {
      "cell_type": "markdown",
      "metadata": {
        "id": "gzC_5Ryq4bMc"
      },
      "source": [
        "\\And that's it! Remember, these steps may differ significantly from your own solution. That's OK! Keep working on different sections of your program until you get the desired results. It takes a lot of time and patience! As always, feel free to post questions and comments to the QA Forums.\n",
        "# Good job!"
      ]
    }
  ],
  "metadata": {
    "kernelspec": {
      "display_name": "Python 3",
      "language": "python",
      "name": "python3"
    },
    "language_info": {
      "codemirror_mode": {
        "name": "ipython",
        "version": 3
      },
      "file_extension": ".py",
      "mimetype": "text/x-python",
      "name": "python",
      "nbconvert_exporter": "python",
      "pygments_lexer": "ipython3",
      "version": "3.6.6"
    },
    "colab": {
      "provenance": []
    }
  },
  "nbformat": 4,
  "nbformat_minor": 0
}